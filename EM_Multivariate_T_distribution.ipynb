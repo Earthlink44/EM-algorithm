{
  "nbformat": 4,
  "nbformat_minor": 0,
  "metadata": {
    "colab": {
      "name": "EM Multivariate T distribution.ipynb",
      "provenance": [],
      "collapsed_sections": [
        "42_kcep9rN2e",
        "2OVhjtfWBiP4"
      ],
      "authorship_tag": "ABX9TyOp1fQF66omSoNRAkGBKkpJ",
      "include_colab_link": true
    },
    "kernelspec": {
      "name": "python3",
      "display_name": "Python 3"
    }
  },
  "cells": [
    {
      "cell_type": "markdown",
      "metadata": {
        "id": "view-in-github",
        "colab_type": "text"
      },
      "source": [
        "<a href=\"https://colab.research.google.com/github/Earthlink44/EM-algorithm/blob/master/EM_Multivariate_T_distribution.ipynb\" target=\"_parent\"><img src=\"https://colab.research.google.com/assets/colab-badge.svg\" alt=\"Open In Colab\"/></a>"
      ]
    },
    {
      "cell_type": "markdown",
      "metadata": {
        "id": "R98JlOOP8Mca",
        "colab_type": "text"
      },
      "source": [
        "# 1. Multivariate T-distribution with known $\\nu$\n",
        "\n",
        "we want to maximize complete log likelihood\n",
        "\n",
        ">$$\\mathcal{l}_{c} = L_{N}(\\mathbf{\\mu},\\mathbf{\\Sigma})+L_{G}(\\nu)$$ \n",
        "\n",
        "\n",
        ">$$ L_{N}(\\mathbf{\\mu},\\mathbf{\\Sigma}) = -\\frac{1}{2}N\\log(\\mathbf{\\Sigma}) - \\frac{1}{2}\\sum^{N}_{i=1}z_{i}\\delta_{i} $$\n",
        "\n",
        ">$$ L_{G}(\\nu) = -N\\log\\Gamma(\\nu/2) + \\frac{1}{2}N\\nu\\log(\\nu/2) +\\frac{1}{2}\\nu\\sum_{i=1}^{N}(\\log{z_i}-z_i) $$\n",
        "\n",
        "\n",
        "Initialize parameters $\\mathbf{\\theta} = (\\mathbf{\\mu},\\mathbf{\\Sigma},\\nu)$\n",
        "\n",
        "$\\mathbf{\\mu}^{0}$ as sample mean\n",
        "\n",
        "$\\mathbf{\\Sigma}^{0}$ as sample covariance\n",
        "\n",
        "$\\delta_{i}^{(0)} = (\\mathbf{x_i}-\\mathbf{\\mu^{(0)}})^{T}(\\mathbf{\\sum^{(0)})^{-1}}(\\mathbf{x_i}-\\mathbf{\\mu^{(0)}})$ mahalanobis distance\n",
        "\n",
        "$\\bar{z}^{(0)}_{i} =\\mathbb{E}\\left[{z_i}|\\mathbf{x}_{i},\\mathbf{\\theta}^{(0)}\\right] = \\frac{\\nu^{(0)}+D}{\\nu^{(0)}+\\delta^{(0)}_{i}}$\n",
        "\n",
        "repeat until $\\mathcal{l}_{c}^{t} - \\mathcal{l}_{c}^{t-1} < \\varepsilon$\n",
        "\n",
        "## 1. E-step \n",
        "\n",
        ">$$\\bar{z}^{(t)}_{i} = \\frac{\\nu^{(t)}+D}{\\nu^{(t)}+\\delta^{(t)}_{i}}$$ where $\\delta_{i}^{(t)} = (\\mathbf{x_i}-\\mathbf{\\mu^{(t)}})^{T}(\\mathbf{\\sum^{(t)})^{-1}}(\\mathbf{x_i}-\\mathbf{\\mu^{(t)}})$ is Mahalanobis distance\n",
        "\n",
        "## 2. M-step\n",
        "\n",
        ">$$\\mathbf{\\hat{\\mu}}^{(t+1)}=\\frac{ \\sum_{i}\\bar{z}^{(t)}_{i}\\mathbf{x}_i }\n",
        "{ \\sum_{i}\\bar{z}^{(t)}_{i} } $$\n",
        "\n",
        ">\\\n",
        "\\begin{aligned}\n",
        "\\hat{\\Sigma}^{(t+1)} \n",
        "&=\\frac{1}{N}\\sum_i\\bar{z}^{(t)}_{i}(\\mathbf{x}_{i}-\\mathbf{\\hat{\\mu}}^{(t+1)})(\\mathbf{x}_{i}-\\mathbf{\\hat{\\mu}}^{(t+1)})^{T}  \\\\\n",
        "&=\\frac{1}{N}\\left[\\sum_{i}\\bar{z}^{(t)}_{i}\\mathbf{x}_{i}\\mathbf{x}_{i}^{T}-\\left(\\sum_{i=1}^{N}\\bar{z}^{(t)}_{i}\\right)\\mathbf{\\hat{\\mu}}^{(t+1)}\\mathbf({\\hat{\\mu}}^{(t+1)})^{T}\\right] \n",
        "\\end{aligned}\n",
        "\n",
        "\n",
        "from the book 'Machine Learning A Probabilistic Perspective' by Kevin P. Murphy (page 359 section 11.4.5)\n",
        "\n",
        "link: https://drive.google.com/file/d/116vH53XhO16BFnLELpzBoPoRBWeUVAV4/view?usp=sharing"
      ]
    },
    {
      "cell_type": "code",
      "metadata": {
        "id": "WrAsn_zI6ccT",
        "colab_type": "code",
        "colab": {}
      },
      "source": [
        "import numpy as np\n",
        "from scipy import special\n",
        "\n",
        "def fitmvtfixnu(X,dof, iter = 200, eps = 1e-6):\n",
        "  '''\n",
        "  Input \n",
        "  1. X - Data with matrix of dimension (D,N) where D is Dimension and N is Sample size (D must >= 2)\n",
        "  2. dof - Degree of freedom\n",
        "  3. iter - Maximum iteration \n",
        "  4. eps - torelance\n",
        "  Output\n",
        "  1. Cov - Covariance matrix\n",
        "  2. mean - mean value vector for each dimension\n",
        "  3. obj - history of Loglikihood function\n",
        "  '''\n",
        "  # Initialize parameters\n",
        "  D = X.shape[1];\n",
        "  N = X.shape[0];\n",
        "  cov = np.cov(X,rowvar=False); # Calculate covariance matrix where row is observations (shape = (D,D))\n",
        "  mean = X.mean(axis=0); # Calculate the mean vector (shape = (1,D))\n",
        "  mu = X - mean[None,:]; # (X-mean(X)) demean the data\n",
        "  delta = (mu * (np.linalg.inv(cov) @ mu.T).T).sum(axis=1); # Mahalanobis distance\n",
        "  z = (dof + D) / (dof + delta);\n",
        "  Loglike = [\n",
        "        (\n",
        "        -N*np.linalg.slogdet(cov)[1]/2 - (z*delta).sum()/2 \n",
        "        -N*special.gammaln(dof/2) + N*dof*np.log(dof/2)/2 + dof*(np.log(z)-z).sum()/2\n",
        "        )\n",
        "  ];\n",
        "  # iterate\n",
        "  for i in range(iter):\n",
        "    # M step\n",
        "    mean = (X * z[:,None]).sum(axis=0).reshape(-1,1) / z.sum();\n",
        "    mu = X - mean.squeeze()[None,:]; # Demean Data\n",
        "    cov = (mu.T @ (mu * z[:,None]))/N; # Covariance matrix\n",
        "\n",
        "    # E step\n",
        "    delta = (mu * (np.linalg.inv(cov) @ mu.T).T).sum(axis=1); # Mahalanobis distance\n",
        "    z = (dof + D) / (dof + delta);\n",
        "\n",
        "    Loglike.append(\n",
        "            (\n",
        "            -N*np.linalg.slogdet(cov)[1]/2 - (z*delta).sum()/2 \n",
        "            -N*special.gammaln(dof/2) + N*dof*np.log(dof/2)/2 + dof*(np.log(z)-z).sum()/2\n",
        "            )\n",
        "    );    \n",
        "    if np.abs(Loglike[-1] - Loglike[-2]) < eps:\n",
        "            break\n",
        "  return cov, mean.squeeze(), Loglike"
      ],
      "execution_count": 400,
      "outputs": []
    },
    {
      "cell_type": "markdown",
      "metadata": {
        "id": "9qp9eGo8KhrA",
        "colab_type": "text"
      },
      "source": [
        "# 2. Multivariate T-distribution with unknown $\\nu$\n",
        "Initialize parameters $\\mathbf{\\theta} = (\\mathbf{\\mu},\\mathbf{\\Sigma},\\nu)$\n",
        "\n",
        "we want to maximize complete log likelihood\n",
        "\n",
        ">$$\\mathcal{l}_{c} = L_{N}(\\mathbf{\\mu},\\mathbf{\\Sigma})+L_{G}(\\nu)$$ \n",
        "\n",
        "\n",
        ">$$ L_{N}(\\mathbf{\\mu},\\mathbf{\\Sigma}) = -\\frac{1}{2}N\\log(\\mathbf{\\Sigma}) - \\frac{1}{2}\\sum^{N}_{i=1}z_{i}\\delta_{i} $$\n",
        "\n",
        ">$$ L_{G}(\\nu) = -N\\log\\Gamma(\\nu/2) + \\frac{1}{2}N\\nu\\log(\\nu/2) +\\frac{1}{2}\\nu\\sum_{i=1}^{N}(\\log{z_i}-z_i) $$\n",
        "\n",
        "$\\mathbf{\\mu}^{0}$ as sample mean\n",
        "\n",
        "$\\mathbf{\\Sigma}^{0}$ as sample covariance\n",
        "\n",
        "$\\delta_{i}^{(0)} = (\\mathbf{x_i}-\\mathbf{\\mu^{(0)}})^{T}(\\mathbf{\\sum^{(0)})^{-1}}(\\mathbf{x_i}-\\mathbf{\\mu^{(0)}})$ mahalanobis distance\n",
        "\n",
        "$\\bar{z}^{(0)}_{i} =\\mathbb{E}\\left[{z_i}|\\mathbf{x}_{i},\\mathbf{\\theta}^{(0)}\\right] = \\frac{\\nu^{(0)}+D}{\\nu^{(0)}+\\delta^{(0)}_{i}}$\n",
        "\n",
        "$ \\overline{\\log{z}}^{(0)}_{i}\n",
        "= \\mathbb{E}\\left[\\log{z_i}|\\mathbf{\\theta}^{(0)}\\right]\n",
        "= \\log(\\bar{z}^{(0)}_{i}) + \\Psi(\\frac{\\nu^{(0)}+D}{2}) - \\log(\\frac{\\nu^{(0)}+D}{2})\n",
        "$\n",
        "\n",
        "repeat until $\\mathcal{l}_{c}^{t} - \\mathcal{l}_{c}^{t-1} < \\varepsilon$\n",
        "\n",
        "## 1. E-step \n",
        "\n",
        ">\\\n",
        "\\begin{aligned}\n",
        "\\bar{z}^{(t)}_{i} \n",
        "&= \\mathbb{E}\\left[{z_i}|\\mathbf{x}_{i},\\mathbf{\\theta}^{(t)}\\right] \\\\\n",
        "&= \\frac{\\nu^{(t)}+D}{\\nu^{(t)}+\\delta^{(t)}_{i}}\n",
        "\\end{aligned}\n",
        "\n",
        "where $\\delta_{i}^{(t)} = (\\mathbf{x_i}-\\mathbf{\\mu^{(t)}})^{T}(\\mathbf{\\sum^{(t)})^{-1}}(\\mathbf{x_i}-\\mathbf{\\mu^{(t)}})$ is Mahalanobis distance\n",
        "\n",
        ">\\\n",
        "\\begin{aligned}\n",
        "\\overline{\\log{z}}^{(t)}_{i} \n",
        "&= \\mathbb{E}\\left[\\log{z_i}|\\mathbf{\\theta}^{(t)}\\right] \\\\\n",
        "&= \\Psi(\\frac{\\nu^{(t)}+D}{2}) - \\log(\\frac{\\nu^{(t)}+\\delta_{i}^{(t)}}{2}) \\\\\n",
        "&= \\log(\\bar{z}^{(t)}_{i}) + \\Psi(\\frac{\\nu^{(t)}+D}{2}) - \\log(\\frac{\\nu^{(t)}+D}{2}) \\\\\n",
        "\\end{aligned}\n",
        "\n",
        "## 2. M-step\n",
        "\n",
        ">$$\\mathbf{\\hat{\\mu}}^{(t+1)}=\\frac{ \\sum_{i}\\bar{z}^{(t)}_{i}\\mathbf{x}_i }\n",
        "{ \\sum_{i}\\bar{z}^{(t)}_{i} } $$\n",
        "\n",
        ">\\\n",
        "\\begin{aligned}\n",
        "\\hat{\\Sigma}^{(t+1)} \n",
        "&=\\frac{1}{N}\\sum_i\\bar{z}^{(t)}_{i}(\\mathbf{x}_{i}-\\mathbf{\\hat{\\mu}}^{(t+1)})(\\mathbf{x}_{i}-\\mathbf{\\hat{\\mu}}^{(t+1)})^{T}  \\\\\n",
        "&=\\frac{1}{N}\\left[\\sum_{i}\\bar{z}^{(t)}_{i}\\mathbf{x}_{i}\\mathbf{x}_{i}^{T}-\\left(\\sum_{i=1}^{N}\\bar{z}^{(t)}_{i}\\right)\\mathbf{\\hat{\\mu}}^{(t+1)}\\mathbf({\\hat{\\mu}}^{(t+1)})^{T}\\right] \n",
        "\\end{aligned}\n",
        "\n",
        "then $\\nu^{(t)}$ can be calculated by numerically solving the following equation\n",
        "\n",
        ">$$-\\frac{N}{2}\\Psi(\\nu/2) + \\frac{N}{2}\\log{(v/2)} + \\frac{N}{2} + \\frac{1}{2}\\sum_{i}\\left(\\overline{\\log{z}}^{(t)}_{i} - \\bar{z}^{(t)}_{i} \\right) = 0$$\n",
        "\n",
        "\n",
        "from the book 'Machine Learning A Probabilistic Perspective' by Kevin P. Murphy (page 359 section 11.4.5)\n",
        "\n",
        "link: https://drive.google.com/file/d/116vH53XhO16BFnLELpzBoPoRBWeUVAV4/view?usp=sharing"
      ]
    },
    {
      "cell_type": "code",
      "metadata": {
        "id": "RH_T5UOqKlN8",
        "colab_type": "code",
        "colab": {}
      },
      "source": [
        "import numpy as np\n",
        "from scipy import special, optimize\n",
        "\n",
        "def fitmvt(X,dof = 0.01, iter = 200, eps = 1e-6):\n",
        "  '''\n",
        "  Input \n",
        "  1. X - Data with matrix of dimension (D,N) where D is Dimension and N is Sample size (D must >= 2)\n",
        "  2. dof - Degree of freedom\n",
        "  3. iter - Maximum iteration \n",
        "  4. eps - torelance\n",
        "  Output\n",
        "  1. Cov - Covariance matrix\n",
        "  2. mean - mean value vector for each dimension\n",
        "  3. dof - Estimated degree of freedom\n",
        "  4. obj - history of Loglikihood function\n",
        "  '''\n",
        "  # Initialize parameters\n",
        "  D = X.shape[1];\n",
        "  N = X.shape[0];\n",
        "  cov = np.cov(X,rowvar=False); # Calculate covariance matrix where row is observations (shape = (D,D))\n",
        "  mean = X.mean(axis=0); # Calculate the mean vector (shape = (1,D))\n",
        "  mu = X - mean[None,:]; # (X-mean(X)) demean the data\n",
        "  delta = (mu * (np.linalg.inv(cov) @ mu.T).T).sum(axis=1); # Mahalanobis distance\n",
        "  z = (dof + D) / (dof + delta);\n",
        "  logz = np.log(z) + special.digamma((dof+D)/2) - np.log((dof+D)/2);\n",
        "\n",
        "  Loglike = [\n",
        "        (\n",
        "        -N*np.linalg.slogdet(cov)[1]/2 - (z*delta).sum()/2 \n",
        "        -N*special.gammaln(dof/2) + N*dof*np.log(dof/2)/2 + dof*(logz-z).sum()/2\n",
        "        )\n",
        "  ];\n",
        "  # iterate\n",
        "  for i in range(iter):\n",
        "    # M step\n",
        "    mean = (X * z[:,None]).sum(axis=0).reshape(-1,1) / z.sum();\n",
        "    mu = X - mean.squeeze()[None,:]; # Demean Data\n",
        "    cov = (mu.T @ (mu * z[:,None]))/N; # Covariance matrix\n",
        "    dof = optimize.fsolve(lambda x: - N*special.digamma(x/2)/2 + N*np.log(x/2)/2 + N/2 + 0.5*(logz-z).sum() ,x0=dof);\n",
        "\n",
        "    # E step\n",
        "    delta = (mu * (np.linalg.inv(cov) @ mu.T).T).sum(axis=1); # Mahalanobis distance\n",
        "    z = (dof + D) / (dof + delta);\n",
        "    logz = np.log(z) + special.digamma((dof+D)/2) - np.log((dof+D)/2);\n",
        "\n",
        "    Loglike.append(\n",
        "            (\n",
        "            -N*np.linalg.slogdet(cov)[1]/2 - (z*delta).sum()/2 \n",
        "            -N*special.gammaln(dof/2) + N*dof*np.log(dof/2)/2 + dof*(logz-z).sum()/2\n",
        "            )\n",
        "    );    \n",
        "    if np.abs(Loglike[-1] - Loglike[-2]) < eps:\n",
        "            break\n",
        "  return cov, mean.squeeze(), dof, Loglike"
      ],
      "execution_count": 413,
      "outputs": []
    },
    {
      "cell_type": "markdown",
      "metadata": {
        "id": "2ZcHTlonKRKM",
        "colab_type": "text"
      },
      "source": [
        "# Multivariate T distribution random (From Enzo Michelangeli)"
      ]
    },
    {
      "cell_type": "code",
      "metadata": {
        "id": "nV-JlkUJ9pTX",
        "colab_type": "code",
        "colab": {}
      },
      "source": [
        "#written by Enzo Michelangeli, style changes by josef-pktd\n",
        "# Student's T random variable\n",
        "def multivariate_t_rvs(m, S, df=np.inf, n=1):\n",
        "    '''generate random variables of multivariate t distribution\n",
        "    Parameters\n",
        "    ----------\n",
        "    m : array_like\n",
        "        mean of random variable, length determines dimension of random variable\n",
        "    S : array_like\n",
        "        square array of covariance  matrix\n",
        "    df : int or float\n",
        "        degrees of freedom\n",
        "    n : int\n",
        "        number of observations, return random array will be (n, len(m))\n",
        "    Returns\n",
        "    -------\n",
        "    rvs : ndarray, (n, len(m))\n",
        "        each row is an independent draw of a multivariate t distributed\n",
        "        random variable\n",
        "    '''\n",
        "    m = np.asarray(m)\n",
        "    d = len(m)\n",
        "    if df == np.inf:\n",
        "        x = 1.\n",
        "    else:\n",
        "        x = np.random.chisquare(df, n)/df\n",
        "    z = np.random.multivariate_normal(np.zeros(d),S,(n,))\n",
        "    return m + z/np.sqrt(x)[:,None]   # same output format as random.multivariate_normal"
      ],
      "execution_count": 414,
      "outputs": []
    },
    {
      "cell_type": "markdown",
      "metadata": {
        "id": "yczE1LQV-J_p",
        "colab_type": "text"
      },
      "source": [
        "# Try it yourself!"
      ]
    },
    {
      "cell_type": "code",
      "metadata": {
        "id": "fPjcTusF_45k",
        "colab_type": "code",
        "colab": {}
      },
      "source": [
        "import matplotlib.pyplot as plt\n",
        "import numpy as np\n",
        "import time"
      ],
      "execution_count": null,
      "outputs": []
    },
    {
      "cell_type": "code",
      "metadata": {
        "id": "5WvrZk329_wO",
        "colab_type": "code",
        "colab": {}
      },
      "source": [
        "D = 5\n",
        "X = multivariate_t_rvs(\n",
        "    \n",
        "    np.ones(D),\n",
        "\n",
        "    np.eye(D),\n",
        "\n",
        "    df=2.5,\n",
        "    \n",
        "    n=1000\n",
        "    )"
      ],
      "execution_count": 415,
      "outputs": []
    },
    {
      "cell_type": "code",
      "metadata": {
        "id": "X1pYeMCp_-GZ",
        "colab_type": "code",
        "colab": {}
      },
      "source": [
        "cov, mu, logl = fitmvtfixnu(X,dof=2.5)"
      ],
      "execution_count": 416,
      "outputs": []
    },
    {
      "cell_type": "code",
      "metadata": {
        "id": "mKmVBKynhIRJ",
        "colab_type": "code",
        "colab": {
          "base_uri": "https://localhost:8080/",
          "height": 282
        },
        "outputId": "77e4b055-52f5-4ba0-8ff4-a252f9b1607f"
      },
      "source": [
        "plt.plot(logl)"
      ],
      "execution_count": 412,
      "outputs": [
        {
          "output_type": "execute_result",
          "data": {
            "text/plain": [
              "[<matplotlib.lines.Line2D at 0x7fa4af327ef0>]"
            ]
          },
          "metadata": {
            "tags": []
          },
          "execution_count": 412
        },
        {
          "output_type": "display_data",
          "data": {
            "image/png": "[encoded data removed]",
            "text/plain": [
              "<Figure size 432x288 with 1 Axes>"
            ]
          },
          "metadata": {
            "tags": [],
            "needs_background": "light"
          }
        }
      ]
    },
    {
      "cell_type": "code",
      "metadata": {
        "id": "QGMEQk-sguyj",
        "colab_type": "code",
        "colab": {
          "base_uri": "https://localhost:8080/",
          "height": 34
        },
        "outputId": "e53026b2-45af-4476-9beb-5f31eea3aee4"
      },
      "source": [
        "nu"
      ],
      "execution_count": null,
      "outputs": [
        {
          "output_type": "execute_result",
          "data": {
            "text/plain": [
              "array([2.47317458])"
            ]
          },
          "metadata": {
            "tags": []
          },
          "execution_count": 384
        }
      ]
    },
    {
      "cell_type": "markdown",
      "metadata": {
        "id": "42_kcep9rN2e",
        "colab_type": "text"
      },
      "source": [
        "## Compare between np.einsum and np.dot for Mahalanobis distance calculation\n",
        "\n",
        "$$\\delta_{i}^{(t)} = (\\mathbf{x_i}-\\mathbf{\\mu^{(t)}})^{T}(\\mathbf{\\Sigma^{(t)})^{-1}}(\\mathbf{x_i}-\\mathbf{\\mu^{(t)}})$$ "
      ]
    },
    {
      "cell_type": "code",
      "metadata": {
        "id": "ZI7SyhCcDJnb",
        "colab_type": "code",
        "colab": {}
      },
      "source": [
        "# parameters for test purpose\n",
        "dof = 200 \n",
        "i = 500"
      ],
      "execution_count": null,
      "outputs": []
    },
    {
      "cell_type": "code",
      "metadata": {
        "id": "E1bHH7yyr9Kl",
        "colab_type": "code",
        "colab": {}
      },
      "source": [
        "D = 300\n",
        "X = multivariate_t_rvs(\n",
        "    \n",
        "    np.ones(D),\n",
        "\n",
        "    np.eye(D),\n",
        "\n",
        "    df=2.5,\n",
        "    \n",
        "    n=10000\n",
        "    )"
      ],
      "execution_count": null,
      "outputs": []
    },
    {
      "cell_type": "code",
      "metadata": {
        "id": "yjpiByTgDQVw",
        "colab_type": "code",
        "colab": {}
      },
      "source": [
        "# einsum\n",
        "delta = np.einsum('ij,ij->i', mu, np.linalg.solve(cov,mu.T).T)"
      ],
      "execution_count": null,
      "outputs": []
    },
    {
      "cell_type": "code",
      "metadata": {
        "id": "DE8VoJ_uDoXC",
        "colab_type": "code",
        "colab": {}
      },
      "source": [
        "# np.dot\n",
        "delta = (mu * (np.linalg.inv(cov) @ mu.T).T).sum(axis=1)"
      ],
      "execution_count": null,
      "outputs": []
    },
    {
      "cell_type": "code",
      "metadata": {
        "id": "p7QY1HOGD2mL",
        "colab_type": "code",
        "colab": {}
      },
      "source": [
        "timematein = []\n",
        "for i in range(i):\n",
        "  tic = time.time()\n",
        "  delta = np.einsum('ij,ij->i', mu, np.linalg.solve(cov,mu.T).T)\n",
        "  toc = time.time()\n",
        "  timematein.append(toc-tic)"
      ],
      "execution_count": null,
      "outputs": []
    },
    {
      "cell_type": "code",
      "metadata": {
        "id": "mDd01uy9K591",
        "colab_type": "code",
        "colab": {}
      },
      "source": [
        "timematad = []\n",
        "for i in range(i):\n",
        "  tic = time.time()\n",
        "  delta = (mu * (np.linalg.inv(cov) @ mu.T).T).sum(axis=1)\n",
        "  toc = time.time()\n",
        "  timematad.append(toc-tic)"
      ],
      "execution_count": null,
      "outputs": []
    },
    {
      "cell_type": "code",
      "metadata": {
        "id": "2X5aa0FuqWWA",
        "colab_type": "code",
        "colab": {
          "base_uri": "https://localhost:8080/",
          "height": 500
        },
        "outputId": "e9e8b721-fa3f-4a84-c839-40bd509a0f05"
      },
      "source": [
        "plt.figure(figsize=(15,8))\n",
        "plt.plot(timematad,label='@')\n",
        "plt.plot(timematein,label='einsum')\n",
        "plt.legend()"
      ],
      "execution_count": null,
      "outputs": [
        {
          "output_type": "execute_result",
          "data": {
            "text/plain": [
              "<matplotlib.legend.Legend at 0x7fa4b33aa588>"
            ]
          },
          "metadata": {
            "tags": []
          },
          "execution_count": 97
        },
        {
          "output_type": "display_data",
          "data": {
            "image/png": "[encoded data removed]",
            "text/plain": [
              "<Figure size 1080x576 with 1 Axes>"
            ]
          },
          "metadata": {
            "tags": [],
            "needs_background": "light"
          }
        }
      ]
    },
    {
      "cell_type": "markdown",
      "metadata": {
        "id": "2OVhjtfWBiP4",
        "colab_type": "text"
      },
      "source": [
        "## compare between einsum and np.dot to compute Covariance matrix in loop\n",
        "\n",
        "$$\\hat{\\Sigma}^{(t+1)} \n",
        "=\\frac{1}{N}\\sum_i\\bar{z}^{(t)}_{i}(\\mathbf{x}_{i}-\\mathbf{\\hat{\\mu}}^{(t+1)})(\\mathbf{x}_{i}-\\mathbf{\\hat{\\mu}}^{(t+1)})^{T}$$"
      ]
    },
    {
      "cell_type": "code",
      "metadata": {
        "id": "PsHOqr_xDYn_",
        "colab_type": "code",
        "colab": {}
      },
      "source": [
        "# parameters for test purpose\n",
        "dof = 3 \n",
        "i = 500"
      ],
      "execution_count": null,
      "outputs": []
    },
    {
      "cell_type": "code",
      "metadata": {
        "id": "OMyEiIlaDWEz",
        "colab_type": "code",
        "colab": {}
      },
      "source": [
        "D = 50\n",
        "X = multivariate_t_rvs(\n",
        "    \n",
        "    np.ones(D),\n",
        "\n",
        "    np.eye(D),\n",
        "\n",
        "    df=2.5,\n",
        "    \n",
        "    n=10000\n",
        "    )"
      ],
      "execution_count": null,
      "outputs": []
    },
    {
      "cell_type": "code",
      "metadata": {
        "id": "pQZvUZE7DfOc",
        "colab_type": "code",
        "colab": {}
      },
      "source": [
        "D = X.shape[1];\n",
        "N = X.shape[0];\n",
        "cov = np.cov(X,rowvar=False); # Calculate covariance matrix where row is observations (shape = (D,D))\n",
        "mean = X.mean(axis=0); # Calculate the mean vector (shape = (1,D))\n",
        "mu = X - mean[None,:]; # (X-mean(X)) demean the data\n",
        "delta = (mu * (np.linalg.inv(cov) @ mu.T).T).sum(axis=1); # Mahalanobis distance\n",
        "z = (dof + D) / (dof + delta);\n",
        "Loglike = [\n",
        "      -N*np.linalg.slogdet(cov)[1]/2 - (z*delta).sum()/2 \n",
        "      -N*special.gammaln(dof/2) + N*dof*np.log(dof/2)/2 + dof*(np.log(z)-z).sum()/2\n",
        "];\n",
        "\n",
        "mean = (X * z[:,None]).sum(axis=0).reshape(-1,1) / z.sum();\n",
        "mu = X - mean.squeeze()[None,:];"
      ],
      "execution_count": null,
      "outputs": []
    },
    {
      "cell_type": "code",
      "metadata": {
        "id": "hmxbQVxUCHrh",
        "colab_type": "code",
        "colab": {
          "base_uri": "https://localhost:8080/",
          "height": 235
        },
        "outputId": "980148c9-6043-4fd3-ff92-53061a87da9e"
      },
      "source": [
        "# einsum\n",
        "cov = np.einsum('ij,ik->jk', mu, mu * z[:,None])/N;\n",
        "cov"
      ],
      "execution_count": null,
      "outputs": [
        {
          "output_type": "execute_result",
          "data": {
            "text/plain": [
              "array([[ 3.34146654e+00, -1.36009066e-02,  6.41702197e-04, ...,\n",
              "         9.20863332e-03,  7.63744627e-03,  4.88626739e-02],\n",
              "       [-1.36009066e-02,  3.41646798e+00,  4.80099314e-03, ...,\n",
              "        -1.20674611e-03,  6.74778741e-03, -1.73548284e-02],\n",
              "       [ 6.41702197e-04,  4.80099314e-03,  3.43483382e+00, ...,\n",
              "         5.84928246e-02, -8.48898689e-03,  1.95569628e-02],\n",
              "       ...,\n",
              "       [ 9.20863332e-03, -1.20674611e-03,  5.84928246e-02, ...,\n",
              "         3.33378728e+00,  3.25983492e-03, -4.18904574e-02],\n",
              "       [ 7.63744627e-03,  6.74778741e-03, -8.48898689e-03, ...,\n",
              "         3.25983492e-03,  3.36585948e+00,  7.85770908e-03],\n",
              "       [ 4.88626739e-02, -1.73548284e-02,  1.95569628e-02, ...,\n",
              "        -4.18904574e-02,  7.85770908e-03,  3.42331436e+00]])"
            ]
          },
          "metadata": {
            "tags": []
          },
          "execution_count": 246
        }
      ]
    },
    {
      "cell_type": "code",
      "metadata": {
        "id": "aFukrZGPCq-9",
        "colab_type": "code",
        "colab": {
          "base_uri": "https://localhost:8080/",
          "height": 235
        },
        "outputId": "a64a849c-c9a5-4714-f206-80f8aa8eb546"
      },
      "source": [
        "# np.dot\n",
        "cov = (mu.T @ (mu * z[:,None]))/N;\n",
        "cov"
      ],
      "execution_count": null,
      "outputs": [
        {
          "output_type": "execute_result",
          "data": {
            "text/plain": [
              "array([[ 3.34146654e+00, -1.36009066e-02,  6.41702197e-04, ...,\n",
              "         9.20863332e-03,  7.63744627e-03,  4.88626739e-02],\n",
              "       [-1.36009066e-02,  3.41646798e+00,  4.80099314e-03, ...,\n",
              "        -1.20674611e-03,  6.74778741e-03, -1.73548284e-02],\n",
              "       [ 6.41702197e-04,  4.80099314e-03,  3.43483382e+00, ...,\n",
              "         5.84928246e-02, -8.48898689e-03,  1.95569628e-02],\n",
              "       ...,\n",
              "       [ 9.20863332e-03, -1.20674611e-03,  5.84928246e-02, ...,\n",
              "         3.33378728e+00,  3.25983492e-03, -4.18904574e-02],\n",
              "       [ 7.63744627e-03,  6.74778741e-03, -8.48898689e-03, ...,\n",
              "         3.25983492e-03,  3.36585948e+00,  7.85770908e-03],\n",
              "       [ 4.88626739e-02, -1.73548284e-02,  1.95569628e-02, ...,\n",
              "        -4.18904574e-02,  7.85770908e-03,  3.42331436e+00]])"
            ]
          },
          "metadata": {
            "tags": []
          },
          "execution_count": 247
        }
      ]
    },
    {
      "cell_type": "code",
      "metadata": {
        "id": "X7rS4LNjCx3G",
        "colab_type": "code",
        "colab": {}
      },
      "source": [
        "timematein = []\n",
        "for i in range(i):\n",
        "  tic = time.time()\n",
        "  cov = np.einsum('ij,ik->jk', mu, mu * z[:,None])/N\n",
        "  toc = time.time()\n",
        "  timematein.append(toc-tic)"
      ],
      "execution_count": null,
      "outputs": []
    },
    {
      "cell_type": "code",
      "metadata": {
        "id": "ACYWIqC9D_jR",
        "colab_type": "code",
        "colab": {}
      },
      "source": [
        "timematad = []\n",
        "for i in range(i):\n",
        "  tic = time.time()\n",
        "  cov = (mu.T @ (mu * z[:,None]))/N;\n",
        "  toc = time.time()\n",
        "  timematad.append(toc-tic)"
      ],
      "execution_count": null,
      "outputs": []
    },
    {
      "cell_type": "code",
      "metadata": {
        "id": "rJpnJkj6C5uW",
        "colab_type": "code",
        "colab": {
          "base_uri": "https://localhost:8080/",
          "height": 503
        },
        "outputId": "f3f8ecb5-d5a8-4380-f86e-f9d00a2d0445"
      },
      "source": [
        "plt.figure(figsize=(15,8))\n",
        "plt.plot(timematad,label='@')\n",
        "plt.plot(timematein,label='einsum')\n",
        "plt.legend()"
      ],
      "execution_count": null,
      "outputs": [
        {
          "output_type": "execute_result",
          "data": {
            "text/plain": [
              "<matplotlib.legend.Legend at 0x7fa4afd68940>"
            ]
          },
          "metadata": {
            "tags": []
          },
          "execution_count": 250
        },
        {
          "output_type": "display_data",
          "data": {
            "image/png": "[encoded data removed]",
            "text/plain": [
              "<Figure size 1080x576 with 1 Axes>"
            ]
          },
          "metadata": {
            "tags": [],
            "needs_background": "light"
          }
        }
      ]
    },
    {
      "cell_type": "code",
      "metadata": {
        "id": "VqkT3LSNEDsO",
        "colab_type": "code",
        "colab": {}
      },
      "source": [
        ""
      ],
      "execution_count": null,
      "outputs": []
    }
  ]
}